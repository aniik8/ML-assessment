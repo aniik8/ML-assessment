{
 "cells": [
  {
   "cell_type": "markdown",
   "id": "403090bc-8dda-41ea-ad23-a9e9fccad9ce",
   "metadata": {},
   "source": [
    "- implementation of ANN "
   ]
  },
  {
   "cell_type": "code",
   "execution_count": null,
   "id": "59fb1eaa-246e-49c9-8a21-b2cab1dcba6b",
   "metadata": {},
   "outputs": [
    {
     "name": "stdout",
     "output_type": "stream",
     "text": [
      "Collecting tensorflow\n",
      "  Downloading tensorflow-2.13.1-cp38-cp38-manylinux_2_17_x86_64.manylinux2014_x86_64.whl (479.6 MB)\n",
      "\u001b[K     |███████████████████████████████▊| 475.6 MB 928 kB/s eta 0:00:05     |█████████▌                      | 142.3 MB 1.3 MB/s eta 0:04:12     |████████████                    | 181.4 MB 1.1 MB/s eta 0:04:38"
     ]
    }
   ],
   "source": [
    "%pip install tensorflow\n"
   ]
  },
  {
   "cell_type": "markdown",
   "id": "36c0a10c-6e17-48ee-8e8e-cafae92ad2de",
   "metadata": {},
   "source": [
    "- importing necessary libraries"
   ]
  },
  {
   "cell_type": "code",
   "execution_count": null,
   "id": "c3b9297a-6c2e-44b7-940f-4ce276f6787b",
   "metadata": {},
   "outputs": [],
   "source": [
    "import pandas as pd\n",
    "import numpy as np\n",
    "from sklearn.model_selection import train_test_split\n",
    "from sklearn.preprocessing import StandardScaler\n",
    "from sklearn.metrics import classification_report\n",
    "import tensorflow as tf\n",
    "from tensorflow.keras.models import Sequential\n",
    "from tensorflow.keras.layers import Dense, Dropout\n",
    "\n",
    "# Load the dataset (replace 'dataset.csv' with your dataset)\n",
    "df = pd.read_csv('dataset.csv')\n",
    "\n",
    "# Preprocessing\n",
    "# Handle missing values, encoding categorical variables, etc.\n",
    "# For simplicity, let's assume the dataset is preprocessed\n",
    "\n",
    "# Split the data into features and target\n",
    "X = df.drop(columns=['Churn'])  # Features\n",
    "y = df['Churn']  # Target variable\n",
    "\n",
    "# Split the data into training and testing sets\n",
    "X_train, X_test, y_train, y_test = train_test_split(X, y, test_size=0.2, random_state=42)\n",
    "\n",
    "# Feature Scaling\n",
    "scaler = StandardScaler()\n",
    "X_train_scaled = scaler.fit_transform(X_train)\n",
    "X_test_scaled = scaler.transform(X_test)\n",
    "\n",
    "# Build the ANN\n",
    "model = Sequential([\n",
    "    Dense(units=128, activation='relu', input_shape=(X_train_scaled.shape[1],)),\n",
    "    Dropout(0.2),\n",
    "    Dense(units=64, activation='relu'),\n",
    "    Dropout(0.2),\n",
    "    Dense(units=1, activation='sigmoid')\n",
    "])\n",
    "\n",
    "# Compile the model\n",
    "model.compile(optimizer='adam', loss='binary_crossentropy', metrics=['accuracy'])\n",
    "\n",
    "# Train the model\n",
    "history = model.fit(X_train_scaled, y_train, epochs=20, batch_size=32, validation_split=0.1, verbose=1)\n",
    "\n",
    "# Evaluate the model\n",
    "y_pred = model.predict(X_test_scaled)\n",
    "y_pred_binary = (y_pred > 0.5).astype(int)  # Convert probabilities to binary predictions\n",
    "print(classification_report(y_test, y_pred_binary))\n"
   ]
  }
 ],
 "metadata": {
  "kernelspec": {
   "display_name": "Python 3 (ipykernel)",
   "language": "python",
   "name": "python3"
  },
  "language_info": {
   "codemirror_mode": {
    "name": "ipython",
    "version": 3
   },
   "file_extension": ".py",
   "mimetype": "text/x-python",
   "name": "python",
   "nbconvert_exporter": "python",
   "pygments_lexer": "ipython3",
   "version": "3.8.10"
  }
 },
 "nbformat": 4,
 "nbformat_minor": 5
}
